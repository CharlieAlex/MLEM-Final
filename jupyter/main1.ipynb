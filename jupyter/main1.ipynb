{
 "cells": [
  {
   "cell_type": "markdown",
   "id": "8a7f5ccf",
   "metadata": {
    "toc": true
   },
   "source": [
    "<h1>Table of Contents<span class=\"tocSkip\"></span></h1>\n",
    "<div class=\"toc\"><ul class=\"toc-item\"><li><span><a href=\"#Package\" data-toc-modified-id=\"Package-1\">Package</a></span></li><li><span><a href=\"#Make-Stock-dataset\" data-toc-modified-id=\"Make-Stock-dataset-2\">Make Stock dataset</a></span><ul class=\"toc-item\"><li><span><a href=\"#ETL-(only-once)\" data-toc-modified-id=\"ETL-(only-once)-2.1\">ETL (only once)</a></span></li><li><span><a href=\"#Read\" data-toc-modified-id=\"Read-2.2\">Read</a></span></li></ul></li><li><span><a href=\"#Produce-Article-data\" data-toc-modified-id=\"Produce-Article-data-3\">Produce Article data</a></span><ul class=\"toc-item\"><li><span><a href=\"#ETL\" data-toc-modified-id=\"ETL-3.1\">ETL</a></span></li><li><span><a href=\"#Merge-Article-and-Stock\" data-toc-modified-id=\"Merge-Article-and-Stock-3.2\">Merge Article and Stock</a></span><ul class=\"toc-item\"><li><span><a href=\"#正式融合文章和股價資料\" data-toc-modified-id=\"正式融合文章和股價資料-3.2.1\">正式融合文章和股價資料</a></span></li></ul></li></ul></li><li><span><a href=\"#3.-文章向量化處理\" data-toc-modified-id=\"3.-文章向量化處理-4\">3. 文章向量化處理</a></span><ul class=\"toc-item\"><li><ul class=\"toc-item\"><li><span><a href=\"#函數\" data-toc-modified-id=\"函數-4.0.1\">函數</a></span></li><li><span><a href=\"#正式把文章向量化處理\" data-toc-modified-id=\"正式把文章向量化處理-4.0.2\">正式把文章向量化處理</a></span></li></ul></li></ul></li><li><span><a href=\"#5.-建立預測模型\" data-toc-modified-id=\"5.-建立預測模型-5\">5. 建立預測模型</a></span><ul class=\"toc-item\"><li><ul class=\"toc-item\"><li><span><a href=\"#Gradient-Boosting\" data-toc-modified-id=\"Gradient-Boosting-5.0.1\">Gradient Boosting</a></span></li><li><span><a href=\"#Random-Forest\" data-toc-modified-id=\"Random-Forest-5.0.2\">Random Forest</a></span></li></ul></li></ul></li><li><span><a href=\"#6.-檢視模型結果\" data-toc-modified-id=\"6.-檢視模型結果-6\">6. 檢視模型結果</a></span><ul class=\"toc-item\"><li><ul class=\"toc-item\"><li><span><a href=\"#函數\" data-toc-modified-id=\"函數-6.0.1\">函數</a></span></li><li><span><a href=\"#先用-accuracy-衡量結果\" data-toc-modified-id=\"先用-accuracy-衡量結果-6.0.2\">先用 accuracy 衡量結果</a></span></li></ul></li></ul></li><li><span><a href=\"#7.-訓練演算法\" data-toc-modified-id=\"7.-訓練演算法-7\">7. 訓練演算法</a></span><ul class=\"toc-item\"><li><ul class=\"toc-item\"><li><span><a href=\"#函數\" data-toc-modified-id=\"函數-7.0.1\">函數</a></span></li><li><span><a href=\"#設定參數\" data-toc-modified-id=\"設定參數-7.0.2\">設定參數</a></span></li><li><span><a href=\"#下載股價資料\" data-toc-modified-id=\"下載股價資料-7.0.3\">下載股價資料</a></span></li><li><span><a href=\"#下載文字資料\" data-toc-modified-id=\"下載文字資料-7.0.4\">下載文字資料</a></span></li><li><span><a href=\"#讀取已下載的文字、股價資料\" data-toc-modified-id=\"讀取已下載的文字、股價資料-7.0.5\">讀取已下載的文字、股價資料</a></span></li><li><span><a href=\"#開始訓練\" data-toc-modified-id=\"開始訓練-7.0.6\">開始訓練</a></span></li></ul></li></ul></li><li><span><a href=\"#8.-一次跑全部\" data-toc-modified-id=\"8.-一次跑全部-8\">8. 一次跑全部</a></span><ul class=\"toc-item\"><li><ul class=\"toc-item\"><li><span><a href=\"#函數\" data-toc-modified-id=\"函數-8.0.1\">函數</a></span></li><li><span><a href=\"#下載資料\" data-toc-modified-id=\"下載資料-8.0.2\">下載資料</a></span></li><li><span><a href=\"#載入資料\" data-toc-modified-id=\"載入資料-8.0.3\">載入資料</a></span></li><li><span><a href=\"#正式跑\" data-toc-modified-id=\"正式跑-8.0.4\">正式跑</a></span></li></ul></li></ul></li><li><span><a href=\"#備份\" data-toc-modified-id=\"備份-9\">備份</a></span></li></ul></div>"
   ]
  },
  {
   "cell_type": "markdown",
   "id": "2e1f6be3",
   "metadata": {},
   "source": [
    "# Package"
   ]
  },
  {
   "cell_type": "code",
   "execution_count": 5,
   "id": "e78b791f",
   "metadata": {
    "ExecuteTime": {
     "end_time": "2023-02-09T09:35:00.664340Z",
     "start_time": "2023-02-09T09:34:54.199017Z"
    }
   },
   "outputs": [
    {
     "name": "stdout",
     "output_type": "stream",
     "text": [
      "+---------------------------------------------------------------------+\n",
      "  Welcome to MONPA: Multi-Objective NER POS Annotator for Chinese\n",
      "+---------------------------------------------------------------------+\n",
      "已找到 model檔。Found model file.\n"
     ]
    }
   ],
   "source": [
    "#資料處理\n",
    "import numpy as np                     #資料處理2陣列\n",
    "import pandas as pd                    #資料處理1資料框\n",
    "from math import nan\n",
    "pd.set_option('max_columns', None)\n",
    "pd.set_option('display.float_format', '{:,.2f}'.format)\n",
    "\n",
    "#畫圖\n",
    "import matplotlib.pyplot as plt        #畫圖1\n",
    "plt.style.use('seaborn-whitegrid')     #畫圖2設定seaborn的畫圖風格\n",
    "import seaborn as sns                  #畫圖3漂亮畫圖套件\n",
    "sns.set()                              #畫圖4設定seaborn\n",
    "\n",
    "#時間\n",
    "import datetime                        \n",
    "\n",
    "#統計\n",
    "import random                          #指定隨機狀態1\n",
    "random.seed(123)                       #指定隨機狀態2\n",
    "\n",
    "#其他\n",
    "from tqdm import tqdm, trange          #用來掌管 for 進度\n",
    "import os                              #用來控制路徑\n",
    "import warnings                        #用來消除警告\n",
    "warnings.filterwarnings(\"ignore\")      #用來消除警告設定\n",
    "from typing import Tuple               #vs code顯示type\n",
    "\n",
    "#文字處理\n",
    "import monpa                                                 \n",
    "from monpa import utils\n",
    "import re                                          \n",
    "\n",
    "### 機器學習套件\n",
    "from sklearn.feature_extraction.text import TfidfVectorizer  #把所有關鍵字變成文字向量模型的套件\n",
    "from sklearn.feature_selection import SelectKBest            #用來挑出最好幾個的關鍵字的套件\n",
    "from sklearn.feature_selection import chi2                   #SelectKBest 要輸入的 score function\n",
    "from sklearn.metrics import accuracy_score                   #用來計算準確性\n",
    "from sklearn.metrics import confusion_matrix                 #用來呈現結果\n",
    "from sklearn.model_selection import cross_val_score\n",
    "from sklearn.neighbors import KNeighborsClassifier\n",
    "from sklearn.linear_model import RidgeClassifier\n",
    "from sklearn.tree import DecisionTreeClassifier\n",
    "from sklearn.ensemble import RandomForestClassifier\n",
    "from sklearn.ensemble import GradientBoostingClassifier\n",
    "from sklearn.neural_network import MLPClassifier"
   ]
  },
  {
   "cell_type": "code",
   "execution_count": 6,
   "id": "ce6c2c0d",
   "metadata": {
    "ExecuteTime": {
     "end_time": "2023-02-09T09:35:35.009795Z",
     "start_time": "2023-02-09T09:35:35.004806Z"
    },
    "scrolled": true
   },
   "outputs": [],
   "source": [
    "# Path\n",
    "rawdata_path = '/Users/alexlo/Desktop/Programming/Project/Stock_ML/rawdata'\n",
    "workdata_path = \"/Users/alexlo/Desktop/Programming/Project/Stock_ML/workdata\""
   ]
  },
  {
   "attachments": {},
   "cell_type": "markdown",
   "id": "a94d0ce5",
   "metadata": {},
   "source": [
    "# ETL"
   ]
  },
  {
   "attachments": {},
   "cell_type": "markdown",
   "id": "e0c59b6f",
   "metadata": {},
   "source": [
    "## Stock dataset(ET)\n",
    "\n",
    "產生聯電2303的資料集(only once)"
   ]
  },
  {
   "cell_type": "code",
   "execution_count": null,
   "id": "84041af7",
   "metadata": {},
   "outputs": [],
   "source": [
    "# Extract\n",
    "os.chdir(rawdata_path)\n",
    "stock_code = '2303'\n",
    "sheets = ['上市2019', '上市2020', '上市2021']\n",
    "stock_df = pd.DataFrame()\n",
    "\n",
    "for i, sheets in enumerate(sheets):\n",
    "    # get data & change type\n",
    "    stock_data = pd.read_excel('stock_data_2019-2021.xlsx', sheet_name=sheets)\n",
    "    stock_data = stock_data[stock_data['證券代碼'].str.startswith(stock_code)] \\\n",
    "        [['證券代碼', '年月日', '收盤價(元)']] \\\n",
    "        .astype({'年月日':'datetime64', '收盤價(元)':'float32'}) \\\n",
    "        .sort_values(by='年月日')\n",
    "    \n",
    "    # concat\n",
    "    stock_df = pd.concat([stock_df, stock_data]).reset_index(drop = True)"
   ]
  },
  {
   "cell_type": "code",
   "execution_count": null,
   "id": "f9a7b806",
   "metadata": {},
   "outputs": [
    {
     "name": "stdout",
     "output_type": "stream",
     "text": [
      "False    517\n",
      "True     214\n",
      "Name: Label, dtype: int64\n"
     ]
    },
    {
     "data": {
      "image/png": "[encoded data removed]",
      "text/plain": [
       "<Figure size 432x288 with 1 Axes>"
      ]
     },
     "metadata": {
      "needs_background": "light"
     },
     "output_type": "display_data"
    }
   ],
   "source": [
    "# Parameter\n",
    "day = 3            #每幾天算一次漲跌幅\n",
    "cutoff = 0.02      #漲跌幅要超過多少%才算是漲\n",
    "\n",
    "# Transform\n",
    "stock_df = stock_df.rename(columns={'證券代碼':'Code', '年月日':'Date', '收盤價(元)':'Price'})\n",
    "stock_df['Change'] = stock_df['Price'].rolling(window = day) \\\n",
    "                        .apply(lambda df: (df[day-1] - df[0]) / df[0], raw = True)\n",
    "stock_df['Label'] = stock_df['Change'] > cutoff\n",
    "stock_df = stock_df.astype({'Change':'float32'}) \n",
    "\n",
    "# Check up and down: 要有足夠的漲幅才值得預測\n",
    "print(stock_df.Label.value_counts())\n",
    "ax = stock_df.plot(kind='line', x='Date', y='Change')\n",
    "ax.set(xlabel='', xticklabels='');"
   ]
  },
  {
   "cell_type": "code",
   "execution_count": null,
   "id": "eb4212c1",
   "metadata": {},
   "outputs": [],
   "source": [
    "# Save\n",
    "os.chdir(workdata_path)\n",
    "stock_df.to_parquet('聯電_d3_c2.parquet', index=False) "
   ]
  },
  {
   "attachments": {},
   "cell_type": "markdown",
   "id": "81b694c5",
   "metadata": {},
   "source": [
    "## Stock dataset(L)"
   ]
  },
  {
   "cell_type": "code",
   "execution_count": 7,
   "id": "c07f63d8",
   "metadata": {
    "ExecuteTime": {
     "end_time": "2023-02-09T09:35:41.918232Z",
     "start_time": "2023-02-09T09:35:41.678363Z"
    }
   },
   "outputs": [
    {
     "data": {
      "text/html": [
       "<div>\n",
       "<style scoped>\n",
       "    .dataframe tbody tr th:only-of-type {\n",
       "        vertical-align: middle;\n",
       "    }\n",
       "\n",
       "    .dataframe tbody tr th {\n",
       "        vertical-align: top;\n",
       "    }\n",
       "\n",
       "    .dataframe thead th {\n",
       "        text-align: right;\n",
       "    }\n",
       "</style>\n",
       "<table border=\"1\" class=\"dataframe\">\n",
       "  <thead>\n",
       "    <tr style=\"text-align: right;\">\n",
       "      <th></th>\n",
       "      <th>Code</th>\n",
       "      <th>Date</th>\n",
       "      <th>Price</th>\n",
       "      <th>Change</th>\n",
       "      <th>Label</th>\n",
       "    </tr>\n",
       "  </thead>\n",
       "  <tbody>\n",
       "    <tr>\n",
       "      <th>0</th>\n",
       "      <td>2303 聯電</td>\n",
       "      <td>2019-01-02</td>\n",
       "      <td>10.15</td>\n",
       "      <td>NaN</td>\n",
       "      <td>False</td>\n",
       "    </tr>\n",
       "    <tr>\n",
       "      <th>1</th>\n",
       "      <td>2303 聯電</td>\n",
       "      <td>2019-01-03</td>\n",
       "      <td>9.97</td>\n",
       "      <td>NaN</td>\n",
       "      <td>False</td>\n",
       "    </tr>\n",
       "    <tr>\n",
       "      <th>2</th>\n",
       "      <td>2303 聯電</td>\n",
       "      <td>2019-01-04</td>\n",
       "      <td>9.78</td>\n",
       "      <td>-0.04</td>\n",
       "      <td>False</td>\n",
       "    </tr>\n",
       "    <tr>\n",
       "      <th>3</th>\n",
       "      <td>2303 聯電</td>\n",
       "      <td>2019-01-07</td>\n",
       "      <td>10.06</td>\n",
       "      <td>0.01</td>\n",
       "      <td>False</td>\n",
       "    </tr>\n",
       "    <tr>\n",
       "      <th>4</th>\n",
       "      <td>2303 聯電</td>\n",
       "      <td>2019-01-08</td>\n",
       "      <td>10.01</td>\n",
       "      <td>0.02</td>\n",
       "      <td>True</td>\n",
       "    </tr>\n",
       "  </tbody>\n",
       "</table>\n",
       "</div>"
      ],
      "text/plain": [
       "      Code        Date  Price  Change  Label\n",
       "0  2303 聯電  2019-01-02  10.15     NaN  False\n",
       "1  2303 聯電  2019-01-03   9.97     NaN  False\n",
       "2  2303 聯電  2019-01-04   9.78   -0.04  False\n",
       "3  2303 聯電  2019-01-07  10.06    0.01  False\n",
       "4  2303 聯電  2019-01-08  10.01    0.02   True"
      ]
     },
     "execution_count": 7,
     "metadata": {},
     "output_type": "execute_result"
    }
   ],
   "source": [
    "# Read\n",
    "os.chdir(workdata_path)\n",
    "stock_df = pd.read_parquet('聯電_d3_c2.parquet')\n",
    "stock_df['Date'] = pd.to_datetime(stock_df['Date']).dt.date\n",
    "stock_df.head()"
   ]
  },
  {
   "attachments": {},
   "cell_type": "markdown",
   "id": "8dae3222",
   "metadata": {},
   "source": [
    "## Article dataset(ETL)"
   ]
  },
  {
   "cell_type": "code",
   "execution_count": 8,
   "id": "425570a0",
   "metadata": {
    "ExecuteTime": {
     "end_time": "2023-02-09T09:47:06.033123Z",
     "start_time": "2023-02-09T09:47:03.223139Z"
    }
   },
   "outputs": [],
   "source": [
    "# Parameter\n",
    "os.chdir(rawdata_path)\n",
    "keywords = ['群創'] #the keyword to filter the articles\n",
    "keywords_times_titles = 1\n",
    "keywords_times_content = 2\n",
    "\n",
    "# Extract\n",
    "text_data = pd.read_csv('bda2022_mid_bbs_2019-2021.csv')\n",
    "\n",
    "# Transform\n",
    "text_data = text_data.rename(columns={'post_time':'Post_Time', 'title':'Title', 'content':'Content'})\n",
    "text_data['Post_Time'] = pd.to_datetime(text_data['Post_Time']).dt.date\n",
    "\n",
    "# Filter the key words\n",
    "criteria1 = (text_data['Title'].str.count('|'.join(keywords)) >= keywords_times_titles)\n",
    "criteria2 = (text_data['Content'].str.count('|'.join(keywords)) >= keywords_times_content)\n",
    "text_data = text_data[(criteria1) | (criteria2)].reset_index(drop = True)"
   ]
  },
  {
   "attachments": {},
   "cell_type": "markdown",
   "id": "66007a92",
   "metadata": {
    "ExecuteTime": {
     "end_time": "2023-02-09T09:48:33.620730Z",
     "start_time": "2023-02-09T09:48:33.617156Z"
    }
   },
   "source": [
    "## Final dataset\n",
    "by merging Article and Stock"
   ]
  },
  {
   "cell_type": "code",
   "execution_count": 9,
   "id": "ca1cf0e2",
   "metadata": {},
   "outputs": [
    {
     "data": {
      "text/plain": [
       "False    317\n",
       "True     165\n",
       "Name: Label, dtype: int64"
      ]
     },
     "execution_count": 9,
     "metadata": {},
     "output_type": "execute_result"
    }
   ],
   "source": [
    "# Merge\n",
    "stock_df['Two_Days'] = datetime.timedelta(days=2) \n",
    "stock_df['Date_L2'] = stock_df['Date'] - stock_df['Two_Days']\n",
    "main_df = pd.merge(text_data, stock_df, left_on='Post_Time', right_on='Date_L2') \\\n",
    "            [['Post_Time', 'Title', 'Content', 'Label']]\n",
    "\n",
    "# Drop NA     \n",
    "stock_df = stock_df[stock_df['Label'].notnull()]\n",
    "main_df = main_df[main_df['Label'].notnull()]\n",
    "\n",
    "# Summary\n",
    "main_df['Label'].value_counts()"
   ]
  },
  {
   "attachments": {},
   "cell_type": "markdown",
   "id": "60cad5e4",
   "metadata": {},
   "source": [
    "# Vetorization"
   ]
  },
  {
   "attachments": {},
   "cell_type": "markdown",
   "id": "4bfc6037",
   "metadata": {},
   "source": [
    "## Function"
   ]
  },
  {
   "cell_type": "code",
   "execution_count": 10,
   "id": "96af383c",
   "metadata": {
    "scrolled": true
   },
   "outputs": [],
   "source": [
    "# Remove the characters which are not Chinese\n",
    "def remove_nonChinese(sentence):\n",
    "    return re.sub(r'[^\\u4e00-\\u9fa5]+', '', sentence)\n",
    "\n",
    "# Shorten the long words in a word list\n",
    "def shorten_word(word_list: list) -> list:\n",
    "    for word in word_list:\n",
    "        if word.startswith(('一', '二','三','四','五','六','七','八','九','十')):\n",
    "            word_list.remove(word)\n",
    "            continue\n",
    "        if len(word) >= 5:\n",
    "            word_list.remove(word)\n",
    "            word_list.append(word[:2])\n",
    "            word_list.append(word[2:])\n",
    "    return word_list\n",
    "   \n",
    "    \n",
    "# Transfrom list of article into list of \"split words\"\n",
    "def get_word_df(df: pd.DataFrame, start, end) -> list:\n",
    "    # Goal: 一個 List 裡面的每一個成員都是一篇文章被用空格分割成一個個字\n",
    "    article_into_words_list = []\n",
    "    len_of_df = len(df[df['Post_Time'].between(start, end)])\n",
    "    for index in trange(0, len_of_df): #幾篇文章就要跑幾次\n",
    "        article_into_words = str()\n",
    "        try:    \n",
    "            article = df['Content'][index]\n",
    "            sentence_list = utils.short_sentence(article) #先把一篇文章切成很多句\n",
    "            for sentence in sentence_list: #再針對每一句切成很多個字\n",
    "                sentence = remove_nonChinese(sentence)\n",
    "                word_list = monpa.cut(sentence)\n",
    "                if word_list is not None:\n",
    "                    word_list = shorten_word(word_list)\n",
    "                    article_into_words += ' '.join(word_list)\n",
    "            article_into_words_list.append(article_into_words)\n",
    "        except:\n",
    "            article_into_words_list.append('')\n",
    "    return article_into_words_list\n",
    "\n",
    "\n",
    "# Get tfidf matrix\n",
    "def get_tfidf_matrix(stop_words: list, word_df: list):\n",
    "    vectorizer = TfidfVectorizer(stop_words=stop_words)                      \n",
    "    tfidf_matrix = vectorizer.fit_transform(word_df)       \n",
    "    tfidf_matrix = pd.DataFrame(tfidf_matrix.toarray(), columns=vectorizer.get_feature_names())\n",
    "    return tfidf_matrix\n",
    "\n",
    "\n",
    "### 獲得 X, y 矩陣\n",
    "def get_X_y(df: pd.DataFrame, word_df: list, stop_words: list, start, end):\n",
    "    # make X and y\n",
    "    X = get_tfidf_matrix(stop_words, word_df)\n",
    "    y = df[df['Post_Time'].between(start, end)]['Label'].reset_index(drop = True)\n",
    "    \n",
    "    # drop when y is NA\n",
    "    X = X[y.notnull()].reset_index(drop = True)         \n",
    "    y = y[y.notnull()].reset_index(drop = True)         \n",
    "    return X, y\n",
    "\n",
    "\n",
    "### 進一步縮小 X 矩陣內詞的數量，挑出更好的關鍵詞\n",
    "def feature_better_X(X, y, k, method = chi2):\n",
    "    selector = SelectKBest(method, k = k).fit(X, y)           \n",
    "    k_features = X.columns[selector.get_support()]  \n",
    "    X = X[k_features]\n",
    "    return X, k_features"
   ]
  },
  {
   "attachments": {},
   "cell_type": "markdown",
   "id": "42a113b3",
   "metadata": {},
   "source": [
    "## Parameter & Preview"
   ]
  },
  {
   "cell_type": "code",
   "execution_count": 12,
   "id": "43ff2f08",
   "metadata": {},
   "outputs": [
    {
     "data": {
      "text/html": [
       "<div>\n",
       "<style scoped>\n",
       "    .dataframe tbody tr th:only-of-type {\n",
       "        vertical-align: middle;\n",
       "    }\n",
       "\n",
       "    .dataframe tbody tr th {\n",
       "        vertical-align: top;\n",
       "    }\n",
       "\n",
       "    .dataframe thead th {\n",
       "        text-align: right;\n",
       "    }\n",
       "</style>\n",
       "<table border=\"1\" class=\"dataframe\">\n",
       "  <thead>\n",
       "    <tr style=\"text-align: right;\">\n",
       "      <th></th>\n",
       "      <th>Post_Time</th>\n",
       "      <th>Title</th>\n",
       "      <th>Content</th>\n",
       "      <th>Label</th>\n",
       "    </tr>\n",
       "  </thead>\n",
       "  <tbody>\n",
       "    <tr>\n",
       "      <th>0</th>\n",
       "      <td>2019-01-02</td>\n",
       "      <td>[新聞] 中國再開新產能 2019年面板持續供過於求</td>\n",
       "      <td>1.原文連結：   https://tinyurl.com/yat7yaog  2.原文內容...</td>\n",
       "      <td>False</td>\n",
       "    </tr>\n",
       "    <tr>\n",
       "      <th>1</th>\n",
       "      <td>2019-01-02</td>\n",
       "      <td>[新聞] 14檔高殖利率 外資回頭搶補</td>\n",
       "      <td>1.原文連結：  https://goo.gl/K9mTJb  2.原文內容：  https...</td>\n",
       "      <td>False</td>\n",
       "    </tr>\n",
       "    <tr>\n",
       "      <th>2</th>\n",
       "      <td>2019-01-07</td>\n",
       "      <td>[新聞] 陸面板大擴產 雙虎有壓</td>\n",
       "      <td>1.原文連結：   https://tinyurl.com/ycpmhxxl  2.原文內容...</td>\n",
       "      <td>False</td>\n",
       "    </tr>\n",
       "    <tr>\n",
       "      <th>3</th>\n",
       "      <td>2019-01-08</td>\n",
       "      <td>[其他] 108/01/08 加權股價指數成分股暨市值比重</td>\n",
       "      <td>昨天有人問了個老問題@@  這個資料要怎麼用  欸豆捏...阿就是算加權指數阿XDDD  不...</td>\n",
       "      <td>False</td>\n",
       "    </tr>\n",
       "    <tr>\n",
       "      <th>4</th>\n",
       "      <td>2019-01-12</td>\n",
       "      <td>[其他] 108/01/11 加權股價指數成分股暨市值比重</td>\n",
       "      <td>週五去實驗室弄電路板弄到心力交瘁= =  今天才補資料抱歉囉～  祝大家周末愉快  以下資料...</td>\n",
       "      <td>False</td>\n",
       "    </tr>\n",
       "    <tr>\n",
       "      <th>...</th>\n",
       "      <td>...</td>\n",
       "      <td>...</td>\n",
       "      <td>...</td>\n",
       "      <td>...</td>\n",
       "    </tr>\n",
       "    <tr>\n",
       "      <th>477</th>\n",
       "      <td>2021-12-07</td>\n",
       "      <td>[新聞] 大摩：12月面板只跌1％ 看好友達、群創</td>\n",
       "      <td>原文標題：產業分析》大摩：12月面板只跌1％ 看好友達、群創 原文連結：https://ec...</td>\n",
       "      <td>False</td>\n",
       "    </tr>\n",
       "    <tr>\n",
       "      <th>478</th>\n",
       "      <td>2021-12-13</td>\n",
       "      <td>[新聞] 證交所：外資今年賣超台股4985億元</td>\n",
       "      <td>原文標題：證交所：外資今年賣超台股4985億元 原文連結：https://reurl.cc/...</td>\n",
       "      <td>False</td>\n",
       "    </tr>\n",
       "    <tr>\n",
       "      <th>479</th>\n",
       "      <td>2021-12-15</td>\n",
       "      <td>[標的] 群創3481 短多</td>\n",
       "      <td>1. 標的：      群創3481  2. 分類：多  3. 分析/正文： 技術面 所有5...</td>\n",
       "      <td>False</td>\n",
       "    </tr>\n",
       "    <tr>\n",
       "      <th>480</th>\n",
       "      <td>2021-12-22</td>\n",
       "      <td>[新聞] 搶賺紅包財 友達南亞科等4檔雙低股出列</td>\n",
       "      <td>原文標題：         搶賺紅包財 友達南亞科等4檔雙低股出列 原文連結：       ...</td>\n",
       "      <td>False</td>\n",
       "    </tr>\n",
       "    <tr>\n",
       "      <th>481</th>\n",
       "      <td>2021-12-22</td>\n",
       "      <td>[請益] 群創有什麼利多嗎？</td>\n",
       "      <td>群創路竹廠 要自辦徵才 這個時機點很怪  應該都會等到領完年終員工才會離職需要補人  而且以...</td>\n",
       "      <td>False</td>\n",
       "    </tr>\n",
       "  </tbody>\n",
       "</table>\n",
       "<p>482 rows × 4 columns</p>\n",
       "</div>"
      ],
      "text/plain": [
       "      Post_Time                          Title  \\\n",
       "0    2019-01-02     [新聞] 中國再開新產能 2019年面板持續供過於求   \n",
       "1    2019-01-02            [新聞] 14檔高殖利率 外資回頭搶補   \n",
       "2    2019-01-07               [新聞] 陸面板大擴產 雙虎有壓   \n",
       "3    2019-01-08  [其他] 108/01/08 加權股價指數成分股暨市值比重   \n",
       "4    2019-01-12  [其他] 108/01/11 加權股價指數成分股暨市值比重   \n",
       "..          ...                            ...   \n",
       "477  2021-12-07      [新聞] 大摩：12月面板只跌1％ 看好友達、群創   \n",
       "478  2021-12-13        [新聞] 證交所：外資今年賣超台股4985億元   \n",
       "479  2021-12-15                 [標的] 群創3481 短多   \n",
       "480  2021-12-22       [新聞] 搶賺紅包財 友達南亞科等4檔雙低股出列   \n",
       "481  2021-12-22                 [請益] 群創有什麼利多嗎？   \n",
       "\n",
       "                                               Content  Label  \n",
       "0    1.原文連結：   https://tinyurl.com/yat7yaog  2.原文內容...  False  \n",
       "1    1.原文連結：  https://goo.gl/K9mTJb  2.原文內容：  https...  False  \n",
       "2    1.原文連結：   https://tinyurl.com/ycpmhxxl  2.原文內容...  False  \n",
       "3    昨天有人問了個老問題@@  這個資料要怎麼用  欸豆捏...阿就是算加權指數阿XDDD  不...  False  \n",
       "4    週五去實驗室弄電路板弄到心力交瘁= =  今天才補資料抱歉囉～  祝大家周末愉快  以下資料...  False  \n",
       "..                                                 ...    ...  \n",
       "477  原文標題：產業分析》大摩：12月面板只跌1％ 看好友達、群創 原文連結：https://ec...  False  \n",
       "478  原文標題：證交所：外資今年賣超台股4985億元 原文連結：https://reurl.cc/...  False  \n",
       "479  1. 標的：      群創3481  2. 分類：多  3. 分析/正文： 技術面 所有5...  False  \n",
       "480  原文標題：         搶賺紅包財 友達南亞科等4檔雙低股出列 原文連結：       ...  False  \n",
       "481  群創路竹廠 要自辦徵才 這個時機點很怪  應該都會等到領完年終員工才會離職需要補人  而且以...  False  \n",
       "\n",
       "[482 rows x 4 columns]"
      ]
     },
     "execution_count": 12,
     "metadata": {},
     "output_type": "execute_result"
    }
   ],
   "source": [
    "main_df\n"
   ]
  },
  {
   "cell_type": "code",
   "execution_count": 13,
   "id": "bd0f4862",
   "metadata": {
    "scrolled": false
   },
   "outputs": [
    {
     "name": "stdout",
     "output_type": "stream",
     "text": [
      "There are 359 artiles to train.\n",
      "There are 123 artiles to test.\n"
     ]
    }
   ],
   "source": [
    "# Choosing training and testing date\n",
    "train_start = datetime.date(2019,1,1)\n",
    "train_end = datetime.date(2021,6,30)\n",
    "test_start = datetime.date(2021,7,1)\n",
    "test_end = datetime.date(2021,12,31)\n",
    "\n",
    "# Stop words for Chinese\n",
    "os.chdir(rawdata_path)\n",
    "with open('stopwords_zh.txt', 'r') as file:\n",
    "    stop_words = file.read().splitlines() \n",
    "\n",
    "# The size of training and testing data\n",
    "print(\n",
    "    'There are', \n",
    "    len(main_df[main_df['Post_Time'].between(train_start, train_end)]),\n",
    "    'artiles to train.'\n",
    ")\n",
    "print(\n",
    "    'There are', \n",
    "    len(main_df[main_df['Post_Time'].between(test_start, test_end)]),\n",
    "    'artiles to test.'\n",
    ")"
   ]
  },
  {
   "attachments": {},
   "cell_type": "markdown",
   "id": "f06af435",
   "metadata": {},
   "source": [
    "## Test mulitprocess"
   ]
  },
  {
   "cell_type": "code",
   "execution_count": 24,
   "id": "ee419f56",
   "metadata": {},
   "outputs": [
    {
     "name": "stdout",
     "output_type": "stream",
     "text": [
      "CPU times: user 3 µs, sys: 1 µs, total: 4 µs\n",
      "Wall time: 7.15 µs\n"
     ]
    },
    {
     "name": "stdout",
     "output_type": "stream",
     "text": [
      "199\n",
      "46\n"
     ]
    },
    {
     "name": "stderr",
     "output_type": "stream",
     "text": [
      "  0%|          | 0/46 [00:00<?, ?it/s]"
     ]
    },
    {
     "name": "stdout",
     "output_type": "stream",
     "text": [
      "0\n",
      "z\n",
      "1\n",
      "z\n"
     ]
    }
   ],
   "source": [
    "import multiprocessing as mp\n",
    "\n",
    "def get_word_df(df: pd.DataFrame, row, start, end) -> list:\n",
    "    # Goal: 一個 List 裡面的每一個成員都是一篇文章被用空格分割成一個個字\n",
    "    df = df.iloc[1:200].copy()\n",
    "    article_into_words_list = []\n",
    "    print(len(df))\n",
    "    len_of_df = len(df[df['Post_Time'].between(start, end)])\n",
    "    print(len_of_df)\n",
    "    for index in trange(0, len_of_df): #幾篇文章就要跑幾次\n",
    "        article_into_words = str()\n",
    "        print(index)\n",
    "        try:    \n",
    "            print('z')\n",
    "            article = df['Content'][index]\n",
    "            sentence_list = utils.short_sentence(article) #先把一篇文章切成很多句\n",
    "            for sentence in sentence_list: #再針對每一句切成很多個字\n",
    "                sentence = remove_nonChinese(sentence)\n",
    "                word_list = monpa.cut(sentence)\n",
    "                if word_list is not None:\n",
    "                    word_list = shorten_word(word_list)\n",
    "                    article_into_words += ' '.join(word_list)\n",
    "            article_into_words_list.append(article_into_words)\n",
    "        except:\n",
    "            article_into_words_list.append('')\n",
    "    return article_into_words_list\n",
    "\n",
    "# Remove the characters which are not Chinese\n",
    "def remove_nonChinese(sentence):\n",
    "    return re.sub(r'[^\\u4e00-\\u9fa5]+', '', sentence)\n",
    "\n",
    "# Shorten the long words in a word list\n",
    "def shorten_word(word_list: list) -> list:\n",
    "    for word in word_list:\n",
    "        if word.startswith(('一', '二','三','四','五','六','七','八','九','十')):\n",
    "            word_list.remove(word)\n",
    "            continue\n",
    "        if len(word) >= 5:\n",
    "            word_list.remove(word)\n",
    "            word_list.append(word[:2])\n",
    "            word_list.append(word[2:])\n",
    "    return word_list\n",
    "\n",
    "\n",
    "\n",
    "# df_length = main_df.shape[0]\n",
    "# df_cut = df_length / 10\n",
    "# np.arange(0,df_length+1,df_cut)\n",
    "%time\n",
    "p1 = mp.Process(target=get_word_df, args=(main_df, [100,200], train_start, train_end))\n",
    "p1.start()\n",
    "# p1.join()\n",
    "\n",
    "\n",
    "# df = main_df\n",
    "# row = [1,200]\n",
    "# df = df.iloc[row[0]:row[1]]\n",
    "# df\n",
    "\n",
    "# tdf_cutrain_word_df_list = get_word_df(main_df, train_start, train_end) #要跑超久要小心\n"
   ]
  },
  {
   "attachments": {},
   "cell_type": "markdown",
   "id": "49b5c11a",
   "metadata": {},
   "source": [
    "## Get matrix X, y for ML\n",
    "\n",
    "It may takes a long and long time..."
   ]
  },
  {
   "cell_type": "code",
   "execution_count": 15,
   "id": "a19dd504",
   "metadata": {
    "scrolled": true
   },
   "outputs": [
    {
     "name": "stderr",
     "output_type": "stream",
     "text": [
      "100%|██████████| 359/359 [01:40<00:00,  3.58it/s]\n",
      "100%|██████████| 123/123 [00:47<00:00,  2.56it/s]\n"
     ]
    }
   ],
   "source": [
    "### 得到原始的 x, y training data\n",
    "train_word_df_list = get_word_df(main_df, train_start, train_end) #要跑超久要小心\n",
    "X_train, y_train = get_X_y(main_df, train_word_df_list, stop_words, train_start, train_end)\n",
    "X_train, k_features = feature_better_X(X_train, y_train, k= 2000, method = chi2) \n",
    "\n",
    "\n",
    "### 得到原始的 x, y testing data\n",
    "test_word_df_list = get_word_df(main_df, test_start, test_end)  #要跑超久要小心\n",
    "X_test, y_test = get_X_y(main_df, test_word_df_list, stop_words, test_start, test_end)\n",
    "X_test = X_test.reindex(k_features, axis=1, fill_value=0)           # 只挑出 train 的時候找出的 k_features"
   ]
  },
  {
   "attachments": {},
   "cell_type": "markdown",
   "id": "f13ca982",
   "metadata": {},
   "source": [
    "## Summary"
   ]
  },
  {
   "cell_type": "code",
   "execution_count": 16,
   "id": "a43dbe60",
   "metadata": {},
   "outputs": [
    {
     "name": "stdout",
     "output_type": "stream",
     "text": [
      "Frequency distribution of training y: \n",
      "        Label\n",
      "False    253\n",
      "True     106\n",
      "Frequency distribution of testing y: \n",
      "        Label\n",
      "False     64\n",
      "True      59\n",
      "There are 963 words that are not being used.\n"
     ]
    }
   ],
   "source": [
    "print('Frequency distribution of training y: \\n', y_train.value_counts().to_frame())\n",
    "print('Frequency distribution of testing y: \\n', y_test.value_counts().to_frame())\n",
    "print(f'There are {len(X_test.columns[(X_test == 0).all()])} words that are not being used.')"
   ]
  },
  {
   "attachments": {},
   "cell_type": "markdown",
   "id": "ea93122a",
   "metadata": {},
   "source": [
    "# Run ML training"
   ]
  },
  {
   "cell_type": "markdown",
   "id": "d07fdb5e",
   "metadata": {},
   "source": [
    "### Gradient Boosting"
   ]
  },
  {
   "cell_type": "code",
   "execution_count": 18,
   "id": "48502755",
   "metadata": {},
   "outputs": [
    {
     "data": {
      "text/plain": [
       "1.0"
      ]
     },
     "execution_count": 18,
     "metadata": {},
     "output_type": "execute_result"
    }
   ],
   "source": [
    "from sklearn.ensemble import GradientBoostingClassifier\n",
    "GBclf = GradientBoostingClassifier(n_estimators=100, learning_rate=1, max_depth=7, random_state=0)\n",
    "GBclf.fit(X_train, y_train)\n",
    "GBclf.score(X_train, y_train)"
   ]
  },
  {
   "cell_type": "markdown",
   "id": "7fce46df",
   "metadata": {},
   "source": [
    "### Random Forest"
   ]
  },
  {
   "cell_type": "code",
   "execution_count": 20,
   "id": "4ecac38b",
   "metadata": {
    "scrolled": true
   },
   "outputs": [
    {
     "data": {
      "text/plain": [
       "0.7103064066852368"
      ]
     },
     "execution_count": 20,
     "metadata": {},
     "output_type": "execute_result"
    }
   ],
   "source": [
    "from sklearn.ensemble import RandomForestClassifier\n",
    "RFclf = RandomForestClassifier(max_depth=2, random_state=0)\n",
    "RFclf.fit(X_train, y_train)\n",
    "RFclf.score(X_train, y_train)"
   ]
  },
  {
   "attachments": {},
   "cell_type": "markdown",
   "id": "2e33a06b",
   "metadata": {},
   "source": [
    "# Run ML testing"
   ]
  },
  {
   "attachments": {},
   "cell_type": "markdown",
   "id": "68368011",
   "metadata": {},
   "source": [
    "## Function"
   ]
  },
  {
   "cell_type": "code",
   "execution_count": 21,
   "id": "169c25b3",
   "metadata": {},
   "outputs": [],
   "source": [
    "# Determine each day belongs to up or down\n",
    "def get_prediction(trained_model, df, start, end, X_test):\n",
    "    # Count the Prediction Label for each day\n",
    "    test_data = df[df['Post_Time'].between(start, end)]\n",
    "    test_data = test_data[test_data['Label'].notna()].reset_index(drop = True)\n",
    "    test_data['Predict_Label'] = trained_model.predict(X_test)\n",
    "    test_data['Counts'] = 1\n",
    "\n",
    "    # Only leave the \"Winning\" Label for each day \n",
    "    prediction = test_data[['Post_Time', 'Predict_Label', 'Counts']] \\\n",
    "        .groupby(['Post_Time', 'Predict_Label']).count() \\\n",
    "        .sort_values('Counts', ascending = False) \\\n",
    "        .sort_index(level=[0], sort_remaining=False) \\\n",
    "        .groupby(level=0).head(1).reset_index()\n",
    "    return prediction\n",
    "\n",
    "# Determine each article belongs to up or down (i.e. weighted by # of articles each day)\n",
    "def get_prediction_weighted(prediction, stock_df, start, end):\n",
    "    # Predict up & down for each article according to the prediction label\n",
    "    stock_df = stock_df[stock_df['Date_L2'].between(start, end)].reset_index(drop = True)  \n",
    "    stock_df = pd.merge(stock_df, prediction, left_on='Date_L2', right_on='Post_Time')\n",
    "\n",
    "    # Compute the Confusion matrix\n",
    "    actual_label = stock_df['Label'] #testing data\n",
    "    predict_label = stock_df['Predict_Label']\n",
    "    return actual_label, predict_label \n",
    "\n",
    "# Prettify the confusion matrix\n",
    "def pretty_confusion(confusion):\n",
    "    x = pd.DataFrame(columns= ['真實漲', '真實跌'], index=['預測漲', '預測跌'])\n",
    "    x['真實漲'] = confusion[0]\n",
    "    x['真實跌'] = confusion[1]\n",
    "    return x"
   ]
  },
  {
   "attachments": {},
   "cell_type": "markdown",
   "id": "7b100eec",
   "metadata": {},
   "source": [
    "## Measure\n",
    "accuracy score = 預測正確(漲+跌) / 全部數量"
   ]
  },
  {
   "cell_type": "code",
   "execution_count": 22,
   "id": "2350752b",
   "metadata": {
    "scrolled": false
   },
   "outputs": [
    {
     "name": "stdout",
     "output_type": "stream",
     "text": [
      "The accuracy score is 0.5084745762711864\n"
     ]
    },
    {
     "data": {
      "text/html": [
       "<div>\n",
       "<style scoped>\n",
       "    .dataframe tbody tr th:only-of-type {\n",
       "        vertical-align: middle;\n",
       "    }\n",
       "\n",
       "    .dataframe tbody tr th {\n",
       "        vertical-align: top;\n",
       "    }\n",
       "\n",
       "    .dataframe thead th {\n",
       "        text-align: right;\n",
       "    }\n",
       "</style>\n",
       "<table border=\"1\" class=\"dataframe\">\n",
       "  <thead>\n",
       "    <tr style=\"text-align: right;\">\n",
       "      <th></th>\n",
       "      <th>真實漲</th>\n",
       "      <th>真實跌</th>\n",
       "    </tr>\n",
       "  </thead>\n",
       "  <tbody>\n",
       "    <tr>\n",
       "      <th>預測漲</th>\n",
       "      <td>23</td>\n",
       "      <td>17</td>\n",
       "    </tr>\n",
       "    <tr>\n",
       "      <th>預測跌</th>\n",
       "      <td>12</td>\n",
       "      <td>7</td>\n",
       "    </tr>\n",
       "  </tbody>\n",
       "</table>\n",
       "</div>"
      ],
      "text/plain": [
       "     真實漲  真實跌\n",
       "預測漲   23   17\n",
       "預測跌   12    7"
      ]
     },
     "execution_count": 22,
     "metadata": {},
     "output_type": "execute_result"
    }
   ],
   "source": [
    "# Parameter\n",
    "MLmodel = GBclf\n",
    "\n",
    "# Compute the score\n",
    "prediction = get_prediction(MLmodel, main_df, test_start, test_end, X_test)\n",
    "actual_label, predict_label = get_prediction_weighted(prediction, stock_df, test_start, test_end)\n",
    "score = accuracy_score(actual_label, predict_label)\n",
    "confusion = confusion_matrix(actual_label, predict_label)\n",
    "confusion = pretty_confusion(confusion)\n",
    "print(f\"The accuracy score is {score}\")\n",
    "confusion "
   ]
  }
 ],
 "metadata": {
  "kernelspec": {
   "display_name": "Python 3",
   "language": "python",
   "name": "python3"
  },
  "language_info": {
   "codemirror_mode": {
    "name": "ipython",
    "version": 3
   },
   "file_extension": ".py",
   "mimetype": "text/x-python",
   "name": "python",
   "nbconvert_exporter": "python",
   "pygments_lexer": "ipython3",
   "version": "3.7.4"
  },
  "notify_time": "5",
  "toc": {
   "base_numbering": 1,
   "nav_menu": {},
   "number_sections": false,
   "sideBar": true,
   "skip_h1_title": false,
   "title_cell": "Table of Contents",
   "title_sidebar": "Contents",
   "toc_cell": true,
   "toc_position": {
    "height": "calc(100% - 180px)",
    "left": "10px",
    "top": "150px",
    "width": "250.434784px"
   },
   "toc_section_display": true,
   "toc_window_display": true
  },
  "varInspector": {
   "cols": {
    "lenName": 16,
    "lenType": 16,
    "lenVar": 40
   },
   "kernels_config": {
    "python": {
     "delete_cmd_postfix": "",
     "delete_cmd_prefix": "del ",
     "library": "var_list.py",
     "varRefreshCmd": "print(var_dic_list())"
    },
    "r": {
     "delete_cmd_postfix": ") ",
     "delete_cmd_prefix": "rm(",
     "library": "var_list.r",
     "varRefreshCmd": "cat(var_dic_list()) "
    }
   },
   "types_to_exclude": [
    "module",
    "function",
    "builtin_function_or_method",
    "instance",
    "_Feature"
   ],
   "window_display": false
  },
  "vscode": {
   "interpreter": {
    "hash": "aee8b7b246df8f9039afb4144a1f6fd8d2ca17a180786b69acc140d282b71a49"
   }
  }
 },
 "nbformat": 4,
 "nbformat_minor": 5
}
