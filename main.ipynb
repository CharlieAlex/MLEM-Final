{
 "cells": [
  {
   "cell_type": "code",
   "execution_count": 4,
   "metadata": {},
   "outputs": [],
   "source": [
    "import pandas as pd\n",
    "import datetime\n",
    "from datetime import date\n",
    "import os\n",
    "from args import rawdata_path, workdata_path\n",
    "import warnings\n",
    "warnings.filterwarnings('ignore')"
   ]
  },
  {
   "cell_type": "markdown",
   "metadata": {},
   "source": [
    "# 1. Extract target stock from Dataset"
   ]
  },
  {
   "cell_type": "code",
   "execution_count": null,
   "metadata": {},
   "outputs": [],
   "source": [
    "from args import stock_code\n",
    "from etl_func.etl_data import extract_stock_df\n",
    "\n",
    "os.chdir(rawdata_path)\n",
    "stock_df = extract_stock_df(stock_code)\n",
    "\n",
    "os.chdir(workdata_path)\n",
    "stock_df.to_parquet(stock_code + '_stock_df.parquet', index=False)"
   ]
  },
  {
   "cell_type": "markdown",
   "metadata": {},
   "source": [
    "# 2. Cut Article Words"
   ]
  },
  {
   "cell_type": "code",
   "execution_count": null,
   "metadata": {},
   "outputs": [],
   "source": [
    "from etl_func.cut_text import Cut_Machine\n",
    "from args import (\n",
    "    company, data_time, datafile_name,\n",
    "    kw_title_num, kw_content_num\n",
    "    )\n",
    "\n",
    "os.chdir(rawdata_path)\n",
    "final_df = pd.DataFrame()\n",
    "for source in datafile_name:\n",
    "    cut_machine = Cut_Machine(\n",
    "        articles_source=datafile_name[source],\n",
    "        data_time=data_time\n",
    "        )\n",
    "    cut_machine.filter_article(\n",
    "        keywords=[company],\n",
    "        title_times=kw_title_num,\n",
    "        content_times=kw_content_num\n",
    "        )\n",
    "    word_df = cut_machine.Pool_sep_all_articles()\n",
    "    final_df = pd.concat([final_df, word_df], ignore_index=True)\n",
    "    print('Finish:' + source)\n",
    "\n",
    "os.chdir(workdata_path)\n",
    "final_df.to_parquet(company + '_word_df.parquet', index=False)"
   ]
  },
  {
   "cell_type": "markdown",
   "metadata": {},
   "source": [
    "# 3. Get X, Y for classification"
   ]
  },
  {
   "cell_type": "code",
   "execution_count": null,
   "metadata": {},
   "outputs": [],
   "source": [
    "from args import day_arg, cutoff_arg, features_num\n",
    "from df_func.make_XY import Words_Matrix\n",
    "from etl_func.etl_data import transform_stock_df, read_stop_words\n",
    "\n",
    "os.chdir(workdata_path)\n",
    "stop_words = read_stop_words(workdata_path)\n",
    "word_df = pd.read_parquet(company + '_word_df.parquet')\n",
    "stock_df = pd.read_parquet(stock_code + '_stock_df.parquet')\n",
    "stock_df = transform_stock_df(stock_df, D=day_arg, cutoff=cutoff_arg)\n",
    "\n",
    "words_matrix = Words_Matrix(word_df, stock_df, data_time, stop_words)\n",
    "X = words_matrix.feature_X_byChi2(k=features_num)\n",
    "Y = words_matrix.Y_matrix"
   ]
  },
  {
   "cell_type": "markdown",
   "metadata": {},
   "source": [
    "# 4. Try training model"
   ]
  },
  {
   "cell_type": "code",
   "execution_count": null,
   "metadata": {},
   "outputs": [],
   "source": [
    "from sklearn.model_selection import cross_val_score\n",
    "from args import classifier_dict\n",
    "\n",
    "for classifier in classifier_dict:\n",
    "    clf = classifier_dict[classifier]()\n",
    "    scores = cross_val_score(clf, X , Y, cv = 5)\n",
    "    print(classifier, ':', round(scores.mean(), 3))\n",
    "    print(scores)"
   ]
  },
  {
   "cell_type": "markdown",
   "metadata": {},
   "source": [
    "# 5. Find the best parameters"
   ]
  },
  {
   "cell_type": "code",
   "execution_count": null,
   "metadata": {},
   "outputs": [],
   "source": [
    "from df_func.train import create_train_function"
   ]
  },
  {
   "cell_type": "code",
   "execution_count": null,
   "metadata": {},
   "outputs": [],
   "source": [
    "cut_list = [0, 0.01, 0.02, 0.03, 0.04]\n",
    "train_k_feature = create_train_function('cutoff_arg')\n",
    "results = train_k_feature(cut_list)\n",
    "df = pd.DataFrame(results)\n",
    "df.to_csv('cutoff_arg.csv', index=False)"
   ]
  },
  {
   "cell_type": "code",
   "execution_count": null,
   "metadata": {},
   "outputs": [],
   "source": [
    "lag_list = [1, 2, 3, 4, 5]\n",
    "train_k_feature = create_train_function('day_arg')\n",
    "results = train_k_feature(lag_list)\n",
    "df = pd.DataFrame(results)\n",
    "df.to_csv('day_arg.csv', index=False)"
   ]
  },
  {
   "cell_type": "code",
   "execution_count": null,
   "metadata": {},
   "outputs": [],
   "source": [
    "k_list = [500, 1000, 1500, 2000, 2500]\n",
    "train_k_feature = create_train_function('features_num')\n",
    "results = train_k_feature(k_list)\n",
    "df = pd.DataFrame(results)\n",
    "df.to_csv('features_num.csv', index=False)"
   ]
  },
  {
   "cell_type": "markdown",
   "metadata": {},
   "source": [
    "# 6. Train & Test 1: 過去測試未來"
   ]
  },
  {
   "cell_type": "code",
   "execution_count": null,
   "metadata": {},
   "outputs": [],
   "source": [
    "from etl_func.etl_data import transform_stock_df\n",
    "from df_func.make_XY import Words_Matrix\n",
    "from df_func.predict import Predict_Machine\n",
    "from sklearn.linear_model import RidgeClassifier\n",
    "\n",
    "train_words_matrix = Words_Matrix(\n",
    "    word_df=word_df,\n",
    "    stock_df=transform_stock_df(stock_df, D=day_arg, cutoff=cutoff_arg),\n",
    "    data_time=(datetime.date(2019,1,1), datetime.date(2020,12,31)),\n",
    "    stop_words=stop_words\n",
    "    )\n",
    "\n",
    "test_words_matrix = Words_Matrix(\n",
    "    word_df=word_df,\n",
    "    stock_df=transform_stock_df(stock_df, D=day_arg, cutoff=cutoff_arg),\n",
    "    data_time=(datetime.date(2021,1,1), datetime.date(2021,12,31)),\n",
    "    stop_words=stop_words\n",
    "    )\n",
    "\n",
    "RDclf = RidgeClassifier(alpha = 0.05)\n",
    "\n",
    "ridge_machine = Predict_Machine(\n",
    "    train_words_matrix=train_words_matrix,\n",
    "    test_words_matrix=test_words_matrix,\n",
    "    features_num=features_num,\n",
    "    classifier=RDclf\n",
    "    )"
   ]
  },
  {
   "cell_type": "code",
   "execution_count": null,
   "metadata": {},
   "outputs": [],
   "source": [
    "ridge_machine.show_accuracy()\n",
    "ridge_machine.show_confusion()"
   ]
  },
  {
   "cell_type": "markdown",
   "metadata": {},
   "source": [
    "# 7. Train & Test 2: 移動回測"
   ]
  },
  {
   "cell_type": "code",
   "execution_count": null,
   "metadata": {},
   "outputs": [],
   "source": []
  }
 ],
 "metadata": {
  "kernelspec": {
   "display_name": "Python 3",
   "language": "python",
   "name": "python3"
  },
  "language_info": {
   "codemirror_mode": {
    "name": "ipython",
    "version": 3
   },
   "file_extension": ".py",
   "mimetype": "text/x-python",
   "name": "python",
   "nbconvert_exporter": "python",
   "pygments_lexer": "ipython3",
   "version": "3.11.5"
  },
  "orig_nbformat": 4
 },
 "nbformat": 4,
 "nbformat_minor": 2
}
