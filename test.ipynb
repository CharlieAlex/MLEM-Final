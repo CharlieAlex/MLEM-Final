{
 "cells": [
  {
   "cell_type": "code",
   "execution_count": 52,
   "metadata": {},
   "outputs": [],
   "source": [
    "from etl_func.cut_text import Cut_Machine\n",
    "import datetime\n",
    "import os\n",
    "\n",
    "# setting\n",
    "os.chdir('/Users/alexlo/Desktop/Project/MLEM_Final/rawdata')\n",
    "bbs = 'bda2022_mid_bbs_2019-2021.csv'\n",
    "# news19 = 'bda2022_mid_news_2019.csv'\n",
    "# news20 = 'bda2022_mid_news_2020.csv'\n",
    "# news21 = 'bda2022_mid_news_2021.csv'\n",
    "data_time = (datetime.date(2019,1,1), datetime.date(2021,12,31))\n",
    "company = '聯電'\n",
    "keywords_list = [company]\n",
    "\n",
    "# get data\n",
    "cut_bbs = Cut_Machine(articles_source=bbs, data_time=data_time)\n",
    "cut_bbs.article_df = cut_bbs.filter_article(keywords=keywords_list, title_times=1, content_times=2)"
   ]
  },
  {
   "cell_type": "code",
   "execution_count": 53,
   "metadata": {},
   "outputs": [
    {
     "name": "stdout",
     "output_type": "stream",
     "text": [
      "+---------------------------------------------------------------------+\n",
      "  Welcome to MONPA: Multi-Objective NER POS Annotator for Chinese\n",
      "+---------------------------------------------------------------------++---------------------------------------------------------------------+\n",
      "  Welcome to MONPA: Multi-Objective NER POS Annotator for Chinese\n",
      "+---------------------------------------------------------------------+\n",
      "\n",
      "+---------------------------------------------------------------------+\n",
      "  Welcome to MONPA: Multi-Objective NER POS Annotator for Chinese\n",
      "+---------------------------------------------------------------------+\n",
      "+---------------------------------------------------------------------+\n",
      "  Welcome to MONPA: Multi-Objective NER POS Annotator for Chinese\n",
      "+---------------------------------------------------------------------+\n",
      "+---------------------------------------------------------------------+\n",
      "  Welcome to MONPA: Multi-Objective NER POS Annotator for Chinese\n",
      "+---------------------------------------------------------------------+\n",
      "+---------------------------------------------------------------------+\n",
      "  Welcome to MONPA: Multi-Objective NER POS Annotator for Chinese\n",
      "+---------------------------------------------------------------------+\n",
      "+---------------------------------------------------------------------+\n",
      "  Welcome to MONPA: Multi-Objective NER POS Annotator for Chinese\n",
      "+---------------------------------------------------------------------+\n",
      "+---------------------------------------------------------------------+\n",
      "  Welcome to MONPA: Multi-Objective NER POS Annotator for Chinese\n",
      "+---------------------------------------------------------------------+\n",
      "已找到 model檔。Found model file.已找到 model檔。Found model file.已找到 model檔。Found model file.\n",
      "\n",
      "已找到 model檔。Found model file.已找到 model檔。Found model file.已找到 model檔。Found model file.\n",
      "已找到 model檔。Found model file.\n",
      "已找到 model檔。Found model file.\n",
      "\n",
      "\n",
      "\n",
      "finish 0\n",
      "finish 1\n",
      "finish 2\n",
      "finish 3\n",
      "finish 4\n",
      "finish 5\n",
      "finish 6\n",
      "finish 7\n",
      "finish 8\n",
      "finish 9\n",
      "finish 10\n",
      "finish 11\n",
      "finish 12\n",
      "finish 13\n",
      "finish 14\n",
      "finish 15\n",
      "finish 16\n",
      "finish 17\n",
      "finish 18\n",
      "finish 19\n",
      "finish 20\n",
      "finish 21\n",
      "finish 22\n",
      "finish 23\n"
     ]
    }
   ],
   "source": [
    "final_df = cut_bbs.Pool_sep_all_articles()\n",
    "final_df.to_csv(company + '.csv', index=False)"
   ]
  },
  {
   "cell_type": "markdown",
   "metadata": {},
   "source": [
    "# 2"
   ]
  },
  {
   "cell_type": "code",
   "execution_count": 22,
   "metadata": {},
   "outputs": [],
   "source": [
    "%reload_ext autoreload\n",
    "%autoreload 2"
   ]
  },
  {
   "cell_type": "code",
   "execution_count": 54,
   "metadata": {},
   "outputs": [
    {
     "name": "stdout",
     "output_type": "stream",
     "text": [
      "finish loading article\n",
      "finish loading stock\n"
     ]
    }
   ],
   "source": [
    "import os\n",
    "from datetime import date\n",
    "from etl_func.etl_data import *\n",
    "from df_func.make_XY import *\n",
    "\n",
    "rawdata_path = '/Users/alexlo/Desktop/Project/MLEM_Final/rawdata'\n",
    "os.chdir(rawdata_path)\n",
    "keywords = ['聯電']\n",
    "keywords_times_titles = 1\n",
    "keywords_times_content = 2\n",
    "article_df = pd.read_csv('bda2022_mid_bbs_2019-2021.csv')\n",
    "article_df = transform_article_df(article_df, keywords, keywords_times_titles, keywords_times_content)\n",
    "with open('stopwords_zh.txt', 'r') as file:\n",
    "    stop_words = file.read().splitlines()\n",
    "print('finish loading article')\n",
    "\n",
    "workdata_path = '/Users/alexlo/Desktop/Project/MLEM_Final/workdata'\n",
    "os.chdir(workdata_path)\n",
    "all_words = pd.read_csv('/Users/alexlo/Desktop/Project/MLEM_Final/workdata/聯電.csv')\n",
    "stock_df = pd.read_parquet('聯電.parquet').astype({'Date':'datetime64[ns]'})\n",
    "stock_df = transform_stock_df(stock_df, D=2, cutoff=3)\n",
    "print('finish loading stock')\n",
    "\n",
    "data_time = tuple([date(2019,1,1), date(2021,12,31)])"
   ]
  },
  {
   "cell_type": "code",
   "execution_count": 55,
   "metadata": {},
   "outputs": [],
   "source": [
    "words_matrix = Words_Matrix(all_words, stop_words, article_df, stock_df, data_time)\n",
    "X = words_matrix.feature_X_byChi2(k=50)\n",
    "Y = words_matrix.Y_matrix"
   ]
  },
  {
   "cell_type": "code",
   "execution_count": 56,
   "metadata": {},
   "outputs": [],
   "source": [
    "from sklearn.model_selection import cross_val_score\n",
    "from sklearn.neighbors import KNeighborsClassifier\n",
    "# from sklearn.linear_model import RidgeClassifier\n",
    "# from sklearn.tree import DecisionTreeClassifier\n",
    "kNNclf = KNeighborsClassifier()\n",
    "kNNscores = cross_val_score(kNNclf, X, Y, cv = 5)"
   ]
  },
  {
   "cell_type": "code",
   "execution_count": 57,
   "metadata": {},
   "outputs": [
    {
     "data": {
      "text/plain": [
       "array([nan, nan, nan, nan, nan])"
      ]
     },
     "execution_count": 57,
     "metadata": {},
     "output_type": "execute_result"
    }
   ],
   "source": [
    "kNNscores"
   ]
  }
 ],
 "metadata": {
  "kernelspec": {
   "display_name": ".venv",
   "language": "python",
   "name": "python3"
  },
  "language_info": {
   "codemirror_mode": {
    "name": "ipython",
    "version": 3
   },
   "file_extension": ".py",
   "mimetype": "text/x-python",
   "name": "python",
   "nbconvert_exporter": "python",
   "pygments_lexer": "ipython3",
   "version": "3.11.5"
  },
  "orig_nbformat": 4
 },
 "nbformat": 4,
 "nbformat_minor": 2
}
